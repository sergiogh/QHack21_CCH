{
 "metadata": {
  "language_info": {
   "codemirror_mode": {
    "name": "ipython",
    "version": 3
   },
   "file_extension": ".py",
   "mimetype": "text/x-python",
   "name": "python",
   "nbconvert_exporter": "python",
   "pygments_lexer": "ipython3",
   "version": "3.7.9"
  },
  "orig_nbformat": 2,
  "kernelspec": {
   "name": "python3",
   "display_name": "Python 3",
   "language": "python"
  }
 },
 "nbformat": 4,
 "nbformat_minor": 2,
 "cells": [
  {
   "cell_type": "code",
   "execution_count": 1,
   "metadata": {},
   "outputs": [],
   "source": [
    "import sys\n",
    "import pennylane as qml\n",
    "import numpy as np\n"
   ]
  },
  {
   "cell_type": "code",
   "execution_count": 2,
   "metadata": {},
   "outputs": [
    {
     "output_type": "stream",
     "name": "stdout",
     "text": [
      "1\n2\n"
     ]
    }
   ],
   "source": [
    "n_qubits = 4\n",
    "for i in range(1,n_qubits-1):\n",
    "    print(i)"
   ]
  },
  {
   "cell_type": "code",
   "execution_count": 16,
   "metadata": {},
   "outputs": [],
   "source": [
    "range(1,n_qubits-1)\n",
    "\n",
    "dev = qml.device('default.qubit', wires=n_qubits)"
   ]
  },
  {
   "cell_type": "code",
   "execution_count": 19,
   "metadata": {},
   "outputs": [],
   "source": [
    "@qml.qnode(dev)\n",
    "def variational_ansatz(params, wires):\n",
    "    n_qubits = len(wires)\n",
    "    \n",
    "    qml.PauliX(wires=0)\n",
    "    qml.RY(params[0], wires=0)\n",
    "    qml.CNOT(wires=[0,1])\n",
    "    qml.PauliX(wires=0)\n",
    "    \n",
    "    for i in range(1,n_qubits-1):\n",
    "        qml.CRY(params[i], wires=[i,i+1])\n",
    "        qml.CNOT(wires=[i+1,i])\n",
    "\n",
    "    return qml.expval(qml.PauliZ(0))\n"
   ]
  },
  {
   "cell_type": "code",
   "execution_count": 20,
   "metadata": {},
   "outputs": [
    {
     "output_type": "stream",
     "name": "stdout",
     "text": [
      "4\n[ 0.39924836  1.07323928 -0.78175195]\n"
     ]
    }
   ],
   "source": [
    "params = np.random.uniform(low=-np.pi / 2, high=np.pi / 2, size=(n_qubits-1))\n",
    "    \n",
    "print(n_qubits)\n",
    "print(params)\n"
   ]
  },
  {
   "cell_type": "code",
   "execution_count": 21,
   "metadata": {},
   "outputs": [],
   "source": [
    "result = variational_ansatz(params, range(n_qubits))"
   ]
  },
  {
   "cell_type": "code",
   "execution_count": 25,
   "metadata": {},
   "outputs": [
    {
     "output_type": "execute_result",
     "data": {
      "text/plain": [
       "' 0: ──X──RY(0.399)──╭C───X──────────────────────────────┤ ⟨Z⟩ \\n 1: ────────────────╰X──╭C─────────╭X───────────────────┤     \\n 2: ────────────────────╰RY(1.07)──╰C──╭C───────────╭X──┤     \\n 3: ───────────────────────────────────╰RY(-0.782)──╰C──┤     \\n'"
      ]
     },
     "metadata": {},
     "execution_count": 25
    }
   ],
   "source": [
    "variational_ansatz.draw(charset='unicode', show_all_wires=True, show_variable_names=True)"
   ]
  },
  {
   "cell_type": "code",
   "execution_count": null,
   "metadata": {},
   "outputs": [],
   "source": []
  }
 ]
}