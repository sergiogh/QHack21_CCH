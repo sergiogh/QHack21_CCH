{
 "cells": [
  {
   "cell_type": "markdown",
   "id": "separated-classic",
   "metadata": {},
   "source": [
    "# Simple Circuits: Measurement (20pt)"
   ]
  },
  {
   "cell_type": "code",
   "execution_count": 2,
   "id": "original-dining",
   "metadata": {},
   "outputs": [],
   "source": [
    "import pennylane as qml\n",
    "from pennylane import numpy as np\n",
    "import sys"
   ]
  },
  {
   "cell_type": "code",
   "execution_count": 12,
   "id": "extraordinary-absolute",
   "metadata": {},
   "outputs": [],
   "source": [
    "def simple_circuits_20(angle):\n",
    "    \"\"\"The code you write for this challenge should be completely contained within this function\n",
    "    between the # QHACK # comment markers.\n",
    "\n",
    "    In this function:\n",
    "        * Rotate the qubit around the x-axis by angle\n",
    "        * Measure the probability the qubit is in the zero state\n",
    "\n",
    "    Args:\n",
    "        angle (float): how much to rotate a state around the x-axis\n",
    "\n",
    "    Returns:\n",
    "        float: the probability of of the state being in the 0 ground state\n",
    "    \"\"\"\n",
    "    prob = 0.0\n",
    "    # QHACK #\n",
    "\n",
    "    # Step 1 : initalize a device\n",
    "    dev = qml.device(\"default.qubit\", wires=1)\n",
    "\n",
    "    # Step 2 : Create a quantum circuit and qnode\n",
    "    @qml.qnode(dev)\n",
    "    def circuit(angle):\n",
    "        qml.RX(angle, wires=0)\n",
    "        return qml.probs(wires=0)\n",
    "\n",
    "    # Step 3 : Run the qnode\n",
    "    prob = circuit(angle)[0]\n",
    "\n",
    "    # QHACK #\n",
    "    return prob"
   ]
  },
  {
   "cell_type": "code",
   "execution_count": 13,
   "id": "violent-transportation",
   "metadata": {},
   "outputs": [
    {
     "name": "stdout",
     "output_type": "stream",
     "text": [
      "0.5563631060725738\n"
     ]
    }
   ],
   "source": [
    "angle = 1.45783\n",
    "print(simple_circuits_20(angle))"
   ]
  },
  {
   "cell_type": "code",
   "execution_count": null,
   "id": "square-booth",
   "metadata": {},
   "outputs": [],
   "source": [
    "if __name__ == \"__main__\":\n",
    "    # DO NOT MODIFY anything in this code block\n",
    "\n",
    "    # Load and process input\n",
    "    angle_str = sys.stdin.read()\n",
    "    angle = float(angle_str)\n",
    "\n",
    "    ans = simple_circuits_20(angle)\n",
    "\n",
    "    if isinstance(ans, np.tensor):\n",
    "        ans = ans.item()\n",
    "\n",
    "    if not isinstance(ans, float):\n",
    "        raise TypeError(\"the simple_circuits_20 function needs to return a float\")\n",
    "\n",
    "    print(ans)"
   ]
  }
 ],
 "metadata": {
  "kernelspec": {
   "display_name": "Python 3",
   "language": "python",
   "name": "python3"
  },
  "language_info": {
   "codemirror_mode": {
    "name": "ipython",
    "version": 3
   },
   "file_extension": ".py",
   "mimetype": "text/x-python",
   "name": "python",
   "nbconvert_exporter": "python",
   "pygments_lexer": "ipython3",
   "version": "3.8.5"
  }
 },
 "nbformat": 4,
 "nbformat_minor": 5
}
